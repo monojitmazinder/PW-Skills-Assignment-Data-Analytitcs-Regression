{
  "nbformat": 4,
  "nbformat_minor": 0,
  "metadata": {
    "colab": {
      "provenance": []
    },
    "kernelspec": {
      "name": "python3",
      "display_name": "Python 3"
    },
    "language_info": {
      "name": "python"
    }
  },
  "cells": [
    {
      "cell_type": "markdown",
      "source": [
        "# **PW Skills Assignment: Data Analytitcs: Regression**"
      ],
      "metadata": {
        "id": "zUUkTNb8EQlc"
      }
    },
    {
      "cell_type": "markdown",
      "source": [
        "## **Assignment Questions**"
      ],
      "metadata": {
        "id": "428t7LfDETyg"
      }
    },
    {
      "cell_type": "markdown",
      "source": [
        "1. What is Simple Linear Regression?\n",
        "\n",
        "Ans: Simple Linear Regression is a statistical method used to model the relationship between a dependent variable (Y) and one independent variable (X) using a straight line:\n",
        "Y = mX + c, where m is the slope and c is the intercept."
      ],
      "metadata": {
        "id": "Z-lR5T5lEbqC"
      }
    },
    {
      "cell_type": "markdown",
      "source": [
        "2. What are the key assumptions of Simple Linear Regression?\n",
        "\n",
        "Ans: The key assumptions of Simple Linear Regression are\n",
        "\n",
        "* Linearity between X and Y\n",
        "\n",
        "* Independence of errors\n",
        "\n",
        "* Homoscedasticity (constant variance of errors)\n",
        "\n",
        "* Normality of errors\n",
        "\n",
        "* No significant outliers"
      ],
      "metadata": {
        "id": "l0K90u4UFPKF"
      }
    },
    {
      "cell_type": "markdown",
      "source": [
        "3. What does the coefficient m represent in the equation Y = mX + c?\n",
        "\n",
        "Ans: m is the slope; it shows the change in Y for a one-unit change in X.\n",
        "\n"
      ],
      "metadata": {
        "id": "Ab1b7wjtFoKY"
      }
    },
    {
      "cell_type": "markdown",
      "source": [
        "4. What does the intercept c represent in the equation Y = mX + c?\n",
        "\n",
        "Ans: c is the intercept; it represents the value of Y when X = 0.\n",
        "\n"
      ],
      "metadata": {
        "id": "pO9hEsXBF0cW"
      }
    },
    {
      "cell_type": "markdown",
      "source": [
        "5. How do we calculate the slope m in Simple Linear Regression?\n",
        "\n",
        "Ans; The slope $m$ in Simple Linear Regression is calculated using the formula:\n",
        "\n",
        "$$\n",
        "m = \\frac{\\sum (x_i - \\bar{x})(y_i - \\bar{y})}{\\sum (x_i - \\bar{x})^2}\n",
        "$$\n",
        "\n",
        "It measures how much $Y$ changes for a one-unit change in $X$.\n"
      ],
      "metadata": {
        "id": "o4MDNk3_F7Xu"
      }
    },
    {
      "cell_type": "markdown",
      "source": [
        "6. What is the purpose of the least squares method in Simple Linear Regression?\n",
        "\n",
        "Ans: To minimize the sum of squared differences between actual and predicted Y values, improving model accuracy."
      ],
      "metadata": {
        "id": "0BPx1uL4Grkr"
      }
    },
    {
      "cell_type": "markdown",
      "source": [
        "7. How is the coefficient of determination (R²) interpreted in Simple Linear Regression?\n",
        "\n",
        "Ans: R² indicates the proportion of variance in Y explained by X.\n",
        "R² = 0.9 means 90% of the variation in Y is explained by X."
      ],
      "metadata": {
        "id": "ki3btV9gG1eH"
      }
    },
    {
      "cell_type": "markdown",
      "source": [
        "8. What is Multiple Linear Regression?\n",
        "\n",
        "Ans: It models the relationship between a dependent variable and two or more independent variables:\n",
        "Y = b₀ + b₁X₁ + b₂X₂ + ... + bnXn\n",
        "\n"
      ],
      "metadata": {
        "id": "vk0zGZvPHANr"
      }
    },
    {
      "cell_type": "markdown",
      "source": [
        "9. What is the main difference between Simple and Multiple Linear Regression?\n",
        "\n",
        "Ans: Simple uses one predictor; Multiple uses two or more predictors."
      ],
      "metadata": {
        "id": "TUtmbEUwHHkL"
      }
    },
    {
      "cell_type": "markdown",
      "source": [
        "10. What are the key assumptions of Multiple Linear Regression?\n",
        "\n",
        "Ans: the key assumptions of Multiple Linear Regression are\n",
        "\n",
        "* Linearity\n",
        "\n",
        "* Independence\n",
        "\n",
        "* Homoscedasticity\n",
        "\n",
        "* Normality\n",
        "\n",
        "* No multicollinearity"
      ],
      "metadata": {
        "id": "VhAKoA31HQv7"
      }
    },
    {
      "cell_type": "markdown",
      "source": [
        "11. What is heteroscedasticity, and how does it affect the results of a Multiple Linear Regression model?\n",
        "\n",
        "Ans: Heteroscedasticity means non-constant variance of residuals, which can lead to inefficient estimates and unreliable hypothesis tests.\n",
        "\n"
      ],
      "metadata": {
        "id": "fjfzbdmqHi0D"
      }
    },
    {
      "cell_type": "markdown",
      "source": [
        "12. How can you improve a Multiple Linear Regression model with high multicollinearity?\n",
        "\n",
        "Ans: Improve a Multiple Linear Regression model with high multicollinearity:\n",
        "\n",
        "* Remove correlated variables\n",
        "\n",
        "* Use Principal Component Analysis (PCA)\n",
        "\n",
        "* Apply regularization (Ridge or Lasso)"
      ],
      "metadata": {
        "id": "qSqkgavHHpWg"
      }
    },
    {
      "cell_type": "markdown",
      "source": [
        "13. What are some common techniques for transforming categorical variables for use in regression models?\n",
        "\n",
        "Ans:some common techniques are\n",
        "\n",
        "* One-Hot Encoding\n",
        "\n",
        "* Label Encoding\n",
        "\n",
        "* Binary Encoding\n",
        "\n",
        "* Target Encoding"
      ],
      "metadata": {
        "id": "dVqBWNf8H9lq"
      }
    },
    {
      "cell_type": "markdown",
      "source": [
        "14. What is the role of interaction terms in Multiple Linear Regression?\n",
        "\n",
        "\n",
        "Ans: Interaction terms model the combined effect of two variables when their effect on Y is not simply additive."
      ],
      "metadata": {
        "id": "1JBJT_jiIQty"
      }
    },
    {
      "cell_type": "markdown",
      "source": [
        "15. How can the interpretation of intercept differ between Simple and Multiple Linear Regression?\n",
        "\n",
        "Ans: The intercept is Y when X = 0. In Multiple, it’s Y when all predictors = 0, which may or may not have real-world meaning.\n",
        "\n"
      ],
      "metadata": {
        "id": "4g2VSP6LIXB1"
      }
    },
    {
      "cell_type": "markdown",
      "source": [
        "16. What is the significance of the slope in regression analysis, and how does it affect predictions?\n",
        "\n",
        "Ans: Slope shows how much Y changes for a one-unit increase in X. It guides prediction and understanding of relationships.\n",
        "\n"
      ],
      "metadata": {
        "id": "SlTgKyr6IgN5"
      }
    },
    {
      "cell_type": "markdown",
      "source": [
        "17. How does the intercept in a regression model provide context for the relationship between variables?\n",
        "\n",
        "Ans: the intercept represents the predicted value of the dependent variable when all independent variables are zero, providing a baseline or starting point for the relationship.\n",
        "\n"
      ],
      "metadata": {
        "id": "dFkW1n_7ImcM"
      }
    },
    {
      "cell_type": "markdown",
      "source": [
        "18. What are the limitations of using R² as a sole measure of model performance?\n",
        "\n",
        "Ans: the limitations of using R² as a sole measure of model performance are\n",
        "\n",
        "* Doesn’t indicate causation\n",
        "\n",
        "* Increases with more variables even if they’re irrelevant\n",
        "\n",
        "* Doesn’t show model bias or variance\n",
        "\n"
      ],
      "metadata": {
        "id": "SUNyKbbMI8EA"
      }
    },
    {
      "cell_type": "markdown",
      "source": [
        "19. How would you interpret a large standard error for a regression coefficient?\n",
        "\n",
        "\n",
        "Ans: It suggests low confidence in that coefficient estimate; the variable may not significantly affect the outcome."
      ],
      "metadata": {
        "id": "uH4XFSSPJO-n"
      }
    },
    {
      "cell_type": "markdown",
      "source": [
        "20. How can heteroscedasticity be identified in residual plots, and why is it important to address it?\n",
        "\n",
        "Ans: In residual plots, look for a funnel shape. It's important to address because it violates model assumptions and affects predictions and inference."
      ],
      "metadata": {
        "id": "r0pSiD4dJWHM"
      }
    },
    {
      "cell_type": "markdown",
      "source": [
        "21. What does it mean if a Multiple Linear Regression model has a high R² but low adjusted R²?\n",
        "\n",
        "Ans: It suggests irrelevant variables are inflating R². Adjusted R² penalizes complexity and is more reliable for model evaluation."
      ],
      "metadata": {
        "id": "KAnqvwnGJb7p"
      }
    },
    {
      "cell_type": "markdown",
      "source": [
        "22. Why is it important to scale variables in Multiple Linear Regression?\n",
        "\n",
        "Ans: It important to scale variables in Multiple Linear Regression is\n",
        "\n",
        "* Ensures equal weight for variables\n",
        "\n",
        "* Improves convergence in algorithms\n",
        "\n",
        "* Reduces multicollinearity"
      ],
      "metadata": {
        "id": "dvw2587aJgzm"
      }
    },
    {
      "cell_type": "markdown",
      "source": [
        "23. What is polynomial regression?\n",
        "\n",
        "Ans: A type of regression where the relationship is modeled as an nth degree polynomial:\n",
        "Y = b₀ + b₁X + b₂X² + ... + bnXⁿ\n",
        "\n"
      ],
      "metadata": {
        "id": "XhVr0kMOJwdP"
      }
    },
    {
      "cell_type": "markdown",
      "source": [
        "24. How does polynomial regression differ from linear regression?\n",
        "\n",
        "Ans: Linear regression models straight-line relationships; polynomial regression models curved/non-linear relationships."
      ],
      "metadata": {
        "id": "Z46uGF5FJ25U"
      }
    },
    {
      "cell_type": "markdown",
      "source": [
        "25. When is polynomial regression used?\n",
        "\n",
        "Ans: When data shows non-linear patterns that a straight line cannot capture."
      ],
      "metadata": {
        "id": "SxG7407zJ9w0"
      }
    },
    {
      "cell_type": "markdown",
      "source": [
        "26. What is the general equation for polynomial regression?\n",
        "\n",
        "Ans: The general equation for polynomial regression is:\n",
        "\n",
        "$$\n",
        "Y = b_0 + b_1X + b_2X^2 + b_3X^3 + \\ldots + b_nX^n\n",
        "$$\n",
        "\n",
        "where $n$ is the degree of the polynomial.\n"
      ],
      "metadata": {
        "id": "odd3X8F_KLGc"
      }
    },
    {
      "cell_type": "markdown",
      "source": [
        "27. Can polynomial regression be applied to multiple variables?\n",
        "\n",
        "Ans: Yes, it becomes multivariate polynomial regression, modeling interactions and powers of multiple features.\n",
        "\n"
      ],
      "metadata": {
        "id": "I7iimSapKU4S"
      }
    },
    {
      "cell_type": "markdown",
      "source": [
        "28. What are the limitations of polynomial regression?\n",
        "\n",
        "Ans: The limitations of polynomial regression are\n",
        "\n",
        "* Prone to overfitting\n",
        "\n",
        "* Sensitive to outliers\n",
        "\n",
        "* Poor extrapolation\n",
        "\n",
        "* Increased model complexity"
      ],
      "metadata": {
        "id": "gaepgEMrKcqW"
      }
    },
    {
      "cell_type": "markdown",
      "source": [
        "29. What methods can be used to evaluate model fit when selecting the degree of a polynomial?\n",
        "\n",
        "Ans: methods can be used to evaluate model:\n",
        "\n",
        "* Cross-validation\n",
        "\n",
        "* Adjusted R²\n",
        "\n",
        "* RMSE (Root Mean Square Error)\n",
        "\n",
        "* Visual inspection of residuals"
      ],
      "metadata": {
        "id": "9HqMxw54KrFS"
      }
    },
    {
      "cell_type": "markdown",
      "source": [
        "30. Why is visualization important in polynomial regression?\n",
        "\n",
        "Ans: It helps assess fit quality, detect overfitting, and understand non-linear patterns."
      ],
      "metadata": {
        "id": "NZNaRJuCK66k"
      }
    },
    {
      "cell_type": "markdown",
      "source": [
        "31. How is polynomial regression implemented in Python?\n",
        "\n",
        "Ans: Polynomial regression in Python can be implemented using PolynomialFeatures and LinearRegression from sklearn\n",
        "\n",
        "Example:\n",
        "\n",
        "from sklearn.preprocessing import PolynomialFeatures\n",
        "from sklearn.linear_model import LinearRegression\n",
        "from sklearn.pipeline import make_pipeline\n",
        "\n",
        "model = make_pipeline(PolynomialFeatures(degree=2), LinearRegression())\n",
        "model.fit(X, y)\n",
        "\n",
        "Note: This fits a polynomial of degree 2 to the data."
      ],
      "metadata": {
        "id": "lUImXPZRLaCD"
      }
    }
  ]
}